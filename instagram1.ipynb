{
 "cells": [
  {
   "cell_type": "markdown",
   "id": "a84198e5",
   "metadata": {},
   "source": [
    "Your friend has opened a new Food Blogging handle on Instagram and wants to get famous. He wants to follow a lot of people so that he can get noticed quickly but it is a tedious task so he asks you to help him. As you have just learned automation using Selenium, you decided to help him by creating an Instagram Bot.\n",
    "You need to create different functions for each task."
   ]
  },
  {
   "cell_type": "markdown",
   "id": "b2fb0de2",
   "metadata": {},
   "source": [
    "# 1 loggin to instgram handle "
   ]
  },
  {
   "cell_type": "code",
   "execution_count": 1,
   "id": "accdc307",
   "metadata": {},
   "outputs": [],
   "source": [
    "# Packages \n",
    "from selenium import webdriver\n",
    "from selenium.webdriver.common.by import By\n",
    "from selenium.webdriver.support.ui import WebDriverWait\n",
    "from selenium.webdriver.support import expected_conditions as EC\n",
    "import time\n",
    "from selenium.webdriver.chrome.options import Options\n",
    "from bs4 import BeautifulSoup\n",
    "\n"
   ]
  },
  {
   "cell_type": "code",
   "execution_count": 2,
   "id": "8afbeeef",
   "metadata": {},
   "outputs": [
    {
     "name": "stderr",
     "output_type": "stream",
     "text": [
      "C:\\Users\\HP\\AppData\\Local\\Temp\\ipykernel_2864\\1794990781.py:12: DeprecationWarning: executable_path has been deprecated, please pass in a Service object\n",
      "  driver  = webdriver.Chrome(executable_path=\"C:/Users/HP/OneDrive/Desktop/chromedriver.exe\")\n"
     ]
    }
   ],
   "source": [
    "\n",
    "\n",
    "# Disable Chrome Browser Notification\n",
    "option = Options()\n",
    "option.add_argument(\"--disable-infobars\")\n",
    "option.add_argument(\"start-maximized\")\n",
    "option.add_argument(\"--disable-extensions\")\n",
    "option.add_experimental_option(\"prefs\", { \n",
    "    \"profile.default_content_setting_values.notifications\": 1 \n",
    "})\n",
    "\n",
    "\n",
    "# Create driver session\n",
    "driver  = webdriver.Chrome(executable_path=\"C:/Users/HP/OneDrive/Desktop/chromedriver.exe\")\n",
    "driver.get('https://instagram.com/')\n"
   ]
  },
  {
   "cell_type": "code",
   "execution_count": 3,
   "id": "3d0ac981",
   "metadata": {},
   "outputs": [],
   "source": [
    "# Credentials\n",
    "username = WebDriverWait(driver, 10).until(EC.presence_of_element_located((By.NAME, \"username\")))\n",
    "password = WebDriverWait(driver, 10).until(EC.presence_of_element_located((By.NAME, \"password\")))\n",
    "username.clear()\n",
    "password.clear()\n",
    "username.send_keys(\"YOUR_ID\")\n",
    "time.sleep(2)\n",
    "password.send_keys(\"YOUR PASSWORD\")\n",
    "time.sleep(2)\n",
    "btn = driver.find_elements(By.TAG_NAME,\"button\")\n",
    "btn[1].click()\n",
    "time.sleep(3)\n",
    "\n"
   ]
  },
  {
   "cell_type": "code",
   "execution_count": 4,
   "id": "7e5d90d7",
   "metadata": {},
   "outputs": [],
   "source": [
    "#  remocing two pops that are not now and notification\n",
    "not_now  = driver.find_element(By.XPATH,\"//button[@class='_acan _acao _acas _aj1-']\")\n",
    "not_now.click()\n",
    "time.sleep(1)\n",
    "not_now_noti = driver.find_element(By.CLASS_NAME,\"_a9--._a9_1\")\n",
    "not_now_noti.click()\n",
    "\n",
    "time.sleep(1)"
   ]
  },
  {
   "cell_type": "code",
   "execution_count": 5,
   "id": "616808f7",
   "metadata": {},
   "outputs": [],
   "source": [
    "driver.maximize_window()"
   ]
  },
  {
   "cell_type": "code",
   "execution_count": 5,
   "id": "19d928f9",
   "metadata": {},
   "outputs": [],
   "source": [
    "# for search button  \n",
    "search = driver.find_element(By.XPATH,\"//div[@class='_aacl _aacp _aacu _aacx _aada']\")\n"
   ]
  },
  {
   "cell_type": "markdown",
   "id": "6f2f2c4d",
   "metadata": {},
   "source": [
    "# 2 TYPE FOOD IN SEARCH BAR AND DISPLAY ALL THE HANDLES"
   ]
  },
  {
   "cell_type": "code",
   "execution_count": 12,
   "id": "edc3a04b",
   "metadata": {},
   "outputs": [
    {
     "name": "stdout",
     "output_type": "stream",
     "text": [
      "indorefooddelicacy\n",
      "indorefoodexplorer\n",
      "foofaji\n",
      "foodie_incarnate\n",
      "sizzlingwanderers__\n",
      "explorer_bhaiya\n",
      "food\n",
      "twohungryguyzz\n",
      "foodyvishal\n",
      "bhookh_bakar_baithak\n",
      "thefoodieindori\n",
      "indore_streetfood\n",
      "foodgotwings\n",
      "_foodoku_\n",
      "accio_foodies\n",
      "food.fantasyy\n",
      "bluetribeofficial\n",
      "foodiesm.time\n",
      "m.v_momos_food\n",
      "yourfoodlab\n",
      "foodmantrawithantara\n",
      "indore_food_bazar\n",
      "foodlovers_indorii\n",
      "b.c.k_bunny_chow_khotae\n",
      "satshyaa\n",
      "indori_food_vlogs\n",
      "dewasiii\n",
      "ishita_neema\n",
      "foodveeram\n",
      "baebornfoodie\n",
      "delhifoodking\n",
      "_meherfoods_\n",
      "two_girls__two_meals\n",
      "thegreatindianfoodie\n",
      "vegvillagefoodofficial\n",
      "foodalyy\n",
      "liveforfood007\n",
      "foodfusionindore\n",
      "foodvoyagerbadhan\n",
      "foodieee___soul\n",
      "lakshya__singh\n",
      "paragbakery_and_fast_food\n",
      "food_costa_01\n",
      "foodmapindore\n",
      "food_paradise_by_tanya\n",
      "fooodmaniaaac\n",
      "Indore Food Carnival\n",
      "foodsafari.indore\n",
      "Food mohalla s140 indore\n",
      "FOOD FANTASY\n",
      "mr_papa_food\n",
      "food_diaries_yummy\n"
     ]
    }
   ],
   "source": [
    "\n",
    "from bs4 import BeautifulSoup\n",
    "user_ids = driver.find_elements(By.CLASS_NAME,\"_ab8w._ab94._ab97._ab9f._ab9k._ab9p._aba0._aba8._abcm\")\n",
    "# Store user_handles\n",
    "store_user_ids = []\n",
    "for user_id in user_ids:\n",
    "    html_content = user_id.get_attribute('outerHTML')\n",
    "    data = BeautifulSoup(html_content, 'html.parser')\n",
    "    title = data.find(class_ = \"_aacl _aaco _aacw _aacx _aad6\")\n",
    "    text = title.text\n",
    "    if text.startswith(\"#\"):\n",
    "        pass\n",
    "    else:\n",
    "        print(title.text)"
   ]
  },
  {
   "cell_type": "markdown",
   "id": "f0ee6f8b",
   "metadata": {},
   "source": [
    "# SEARCHING FOR \"SO DELHI \"\n",
    "\"\"\"\n",
    "Searching and Opening a profile using \n",
    "Open profile of “So Delhi” \n",
    "\"\"\""
   ]
  },
  {
   "cell_type": "code",
   "execution_count": 30,
   "id": "96ded877",
   "metadata": {},
   "outputs": [],
   "source": [
    "# opening and loctaing the serach bar after removing the pops are same just we search for \"So delhi\""
   ]
  },
  {
   "cell_type": "code",
   "execution_count": 36,
   "id": "e9e63cb7",
   "metadata": {},
   "outputs": [],
   "source": [
    "# right now we have the \"food\" in the search bar we need to remove it and send new text \"So delhi\""
   ]
  },
  {
   "cell_type": "code",
   "execution_count": 76,
   "id": "f9421ef4",
   "metadata": {},
   "outputs": [],
   "source": [
    "new_type = driver.find_element(By.XPATH,\"//input[@aria-label='Search input']\")"
   ]
  },
  {
   "cell_type": "code",
   "execution_count": 77,
   "id": "b999f233",
   "metadata": {},
   "outputs": [],
   "source": [
    "new_type.clear()"
   ]
  },
  {
   "cell_type": "code",
   "execution_count": 78,
   "id": "6d721e8c",
   "metadata": {},
   "outputs": [],
   "source": [
    "new_type.send_keys(\"So Delhi\")"
   ]
  },
  {
   "cell_type": "code",
   "execution_count": 79,
   "id": "2e3108ea",
   "metadata": {},
   "outputs": [],
   "source": [
    "user_id = driver.find_element(By.CLASS_NAME,\"_aacl._aaco._aacw._aacx._aad6\")"
   ]
  },
  {
   "cell_type": "code",
   "execution_count": 80,
   "id": "df53db2f",
   "metadata": {},
   "outputs": [],
   "source": [
    "from bs4 import BeautifulSoup"
   ]
  },
  {
   "cell_type": "code",
   "execution_count": 81,
   "id": "24bed8f8",
   "metadata": {},
   "outputs": [],
   "source": [
    "data = driver.find_element(By.CLASS_NAME,\"_abm4\")"
   ]
  },
  {
   "cell_type": "code",
   "execution_count": 82,
   "id": "778a1e54",
   "metadata": {},
   "outputs": [],
   "source": [
    "data = data.get_attribute('outerHTML')"
   ]
  },
  {
   "cell_type": "code",
   "execution_count": 83,
   "id": "8ad13729",
   "metadata": {},
   "outputs": [],
   "source": [
    "data = BeautifulSoup(data,'html.parser')"
   ]
  },
  {
   "cell_type": "code",
   "execution_count": 84,
   "id": "f9c8c44f",
   "metadata": {},
   "outputs": [
    {
     "name": "stdout",
     "output_type": "stream",
     "text": [
      "<div class=\"_abm4\">\n",
      " <a class=\"x1i10hfl xjbqb8w x6umtig x1b1mbwd xaqea5y xav7gou x9f619 x1ypdohk xt0psk2 xe8uvvx xdj266r x11i5rnm xat24cr x1mh8g0r xexx8yu x4uap5 x18d9i69 xkhd6sd x16tdsg8 x1hl2dhg xggy1nq x1a2a7pz _a6hd\" href=\"/sodelhi/?next=%2F\" role=\"link\" tabindex=\"0\">\n",
      "  <div aria-labelledby=\"fdf51e4035910c f166c7af2983118 f5de034d0bc404 f2831c37707662\" class=\"_ab8w _ab94 _ab97 _ab9f _ab9k _ab9p _aba0 _aba8 _abcm\">\n",
      "   <div class=\"_ab8w _ab94 _ab99 _ab9f _ab9m _ab9p _abbj _abcm\">\n",
      "    <div aria-disabled=\"false\" class=\"_aarf _aarg\" role=\"button\" style=\"cursor: pointer;\" tabindex=\"0\">\n",
      "     <canvas class=\"_aarh\" height=\"68\" style=\"position: absolute; top: -5px; left: -5px; width: 54px; height: 54px;\" width=\"68\">\n",
      "     </canvas>\n",
      "     <span class=\"xnz67gz x14yjl9h xudhj91 x18nykt9 xww2gxu x9f619 x1lliihq x2lah0s x6ikm8r x10wlt62 x1n2onr6 x1ykvv32 xougopr x159fomc xnp5s1o x194ut8o x1vzenxt xd7ygy7 xt298gk x1xrz1ek x1s928wv x162n7g1 x2q1x1w x1j6awrg x1n449xj x1m1drc7\" role=\"link\" style=\"width: 44px; height: 44px;\" tabindex=\"-1\">\n",
      "      <img alt=\"sodelhi's profile picture\" class=\"x6umtig x1b1mbwd xaqea5y xav7gou xk390pu x5yr21d xpdipgo xdj266r x11i5rnm xat24cr x1mh8g0r xexx8yu x4uap5 x18d9i69 xkhd6sd x11njtxf xh8yej3\" crossorigin=\"anonymous\" draggable=\"false\" src=\"https://instagram.fdel4-2.fna.fbcdn.net/v/t51.2885-19/125526355_375604820328205_5868491818037192336_n.jpg?stp=dst-jpg_s150x150&amp;_nc_ht=instagram.fdel4-2.fna.fbcdn.net&amp;_nc_cat=1&amp;_nc_ohc=Tk5iXzmGtVwAX_EQhuc&amp;edm=AHG7ALcBAAAA&amp;ccb=7-5&amp;oh=00_AfDGYu2_VUz4w77JtnbRD5CXdfAxx0hfd8AKhgzt9dgjWA&amp;oe=63E98A1A&amp;_nc_sid=5cbaad\"/>\n",
      "     </span>\n",
      "    </div>\n",
      "   </div>\n",
      "   <div class=\"_ab8w _ab94 _ab99 _ab9h _ab9m _ab9o _abcm\">\n",
      "    <div class=\"_ab8w _ab94 _ab99 _ab9f _ab9m _ab9p _abcm\" id=\"f166c7af2983118\">\n",
      "     <div class=\"_aacl _aaco _aacu _aacx _aada\">\n",
      "      <div class=\"_ab8w _ab94 _ab97 _ab9f _ab9k _ab9p _abcm\">\n",
      "       <div class=\"_aacl _aaco _aacw _aacx _aad6\">\n",
      "        sodelhi\n",
      "       </div>\n",
      "      </div>\n",
      "     </div>\n",
      "    </div>\n",
      "    <div class=\"_ab8w _ab94 _ab99 _ab9f _ab9m _ab9p _abb- _abcm\" id=\"f5de034d0bc404\">\n",
      "     <div class=\"_aacl _aaco _aacu _aacy _aada\">\n",
      "      So Delhi\n",
      "     </div>\n",
      "    </div>\n",
      "   </div>\n",
      "  </div>\n",
      " </a>\n",
      "</div>\n"
     ]
    }
   ],
   "source": [
    "print(data.prettify())"
   ]
  },
  {
   "cell_type": "code",
   "execution_count": 85,
   "id": "71c8462a",
   "metadata": {},
   "outputs": [],
   "source": [
    "final = 'https://www.instagram.com/' + data.a['href']"
   ]
  },
  {
   "cell_type": "code",
   "execution_count": 86,
   "id": "bdd8ff20",
   "metadata": {},
   "outputs": [
    {
     "name": "stdout",
     "output_type": "stream",
     "text": [
      "https://www.instagram.com//sodelhi/?next=%2F\n"
     ]
    }
   ],
   "source": [
    "print(final)"
   ]
  },
  {
   "cell_type": "code",
   "execution_count": 87,
   "id": "bc656b6a",
   "metadata": {},
   "outputs": [],
   "source": [
    "driver.get(final)"
   ]
  },
  {
   "cell_type": "code",
   "execution_count": 90,
   "id": "2e425ad9",
   "metadata": {},
   "outputs": [],
   "source": [
    "v= list()\n",
    "value =driver.find_elements(By.CLASS_NAME,\"_aacl._aacp._aacu._aacx._aad6._aade\")\n",
    "for i in value:\n",
    "    v.append(i.text)\n",
    "# post,followers,follwing = v[0],v[1],v[2]"
   ]
  },
  {
   "cell_type": "code",
   "execution_count": 91,
   "id": "c5b6d33f",
   "metadata": {},
   "outputs": [],
   "source": [
    "import pandas as pd\n",
    "to_be_pass = {1 : [\"posts\",\"followers\",\"following\"], 2: v}\n",
    "final = pd.DataFrame(to_be_pass)"
   ]
  },
  {
   "cell_type": "code",
   "execution_count": 92,
   "id": "41df1c4a",
   "metadata": {},
   "outputs": [
    {
     "data": {
      "text/html": [
       "<div>\n",
       "<style scoped>\n",
       "    .dataframe tbody tr th:only-of-type {\n",
       "        vertical-align: middle;\n",
       "    }\n",
       "\n",
       "    .dataframe tbody tr th {\n",
       "        vertical-align: top;\n",
       "    }\n",
       "\n",
       "    .dataframe thead th {\n",
       "        text-align: right;\n",
       "    }\n",
       "</style>\n",
       "<table border=\"1\" class=\"dataframe\">\n",
       "  <thead>\n",
       "    <tr style=\"text-align: right;\">\n",
       "      <th></th>\n",
       "      <th>1</th>\n",
       "      <th>2</th>\n",
       "    </tr>\n",
       "  </thead>\n",
       "  <tbody>\n",
       "    <tr>\n",
       "      <th>0</th>\n",
       "      <td>posts</td>\n",
       "      <td>14,290 posts</td>\n",
       "    </tr>\n",
       "    <tr>\n",
       "      <th>1</th>\n",
       "      <td>followers</td>\n",
       "      <td>569K followers</td>\n",
       "    </tr>\n",
       "    <tr>\n",
       "      <th>2</th>\n",
       "      <td>following</td>\n",
       "      <td>32 following</td>\n",
       "    </tr>\n",
       "  </tbody>\n",
       "</table>\n",
       "</div>"
      ],
      "text/plain": [
       "           1               2\n",
       "0      posts    14,290 posts\n",
       "1  followers  569K followers\n",
       "2  following    32 following"
      ]
     },
     "execution_count": 92,
     "metadata": {},
     "output_type": "execute_result"
    }
   ],
   "source": [
    "#  IN THIS CELL JUST JUST SUMMARIZED THE SCRAPPING I HAVE DONE WITH THE \"SO DELHI \" HANDLE \n",
    "final"
   ]
  },
  {
   "cell_type": "code",
   "execution_count": 65,
   "id": "c87e5359",
   "metadata": {},
   "outputs": [],
   "source": [
    "#  follow or unfollow the given handles"
   ]
  },
  {
   "cell_type": "markdown",
   "id": "6b776398",
   "metadata": {},
   "source": [
    "# 4 Follow/Unfollow given handle - \n",
    "Open the Instagram Handle of “So Delhi”\n",
    "Start following it. Print a message if you are already following\n",
    "After following, unfollow the instagram handle. Print a message if you have already unfollowed."
   ]
  },
  {
   "cell_type": "markdown",
   "id": "710423e0",
   "metadata": {},
   "source": [
    "# follow"
   ]
  },
  {
   "cell_type": "code",
   "execution_count": 101,
   "id": "9ed26c5e",
   "metadata": {},
   "outputs": [],
   "source": [
    "#  handles= \"  SO DELHI   \"\n",
    "\n",
    "follow = driver.find_element(By.CLASS_NAME,\"_aacl._aaco._aacw._aad6._aade\")"
   ]
  },
  {
   "cell_type": "code",
   "execution_count": 103,
   "id": "e2ed1219",
   "metadata": {},
   "outputs": [],
   "source": [
    "#  if the text still shows follow than we have to click on the follow"
   ]
  },
  {
   "cell_type": "code",
   "execution_count": 112,
   "id": "8bd19670",
   "metadata": {},
   "outputs": [],
   "source": [
    "if follow.text =='Follow':\n",
    "    button = driver.find_element(By.CLASS_NAME,\"_acan._acap._acas._aj1-\")\n",
    "    button.click()\n",
    "else:\n",
    "    print(\"already Following\")"
   ]
  },
  {
   "cell_type": "markdown",
   "id": "a0da05ea",
   "metadata": {},
   "source": [
    "# unfollow"
   ]
  },
  {
   "cell_type": "code",
   "execution_count": 113,
   "id": "4e7ddc6c",
   "metadata": {},
   "outputs": [],
   "source": [
    "# now we need to write the code for unfollowing\n",
    "follow = driver.find_element(By.CLASS_NAME,\"_aacl._aaco._aacw._aad6._aade\")\n",
    "if follow.text =='Following':\n",
    "    button = driver.find_element(By.CLASS_NAME,\"_acan._acap._acat._aj1-\")\n",
    "    button.click() \n",
    "    # after that we need to shift the driver to the new popup\n",
    "    \n",
    "    final_button = driver.find_elements(By.CLASS_NAME,\"_ab8w._ab94._ab99._ab9h._ab9m._ab9p._abcm\")\n",
    "    final_button[6].click()\n",
    "    \n",
    "else:\n",
    "    print(\"already unfollowing\")"
   ]
  },
  {
   "cell_type": "markdown",
   "id": "22463375",
   "metadata": {},
   "source": [
    "# this is self practice for following and unfollowing "
   ]
  },
  {
   "cell_type": "code",
   "execution_count": 114,
   "id": "e9229742",
   "metadata": {
    "scrolled": false
   },
   "outputs": [
    {
     "name": "stdout",
     "output_type": "stream",
     "text": [
      "already Following\n",
      "already unfollowing\n",
      "already Following\n",
      "already unfollowing\n",
      "already Following\n",
      "already unfollowing\n",
      "already Following\n",
      "already unfollowing\n",
      "already Following\n",
      "already unfollowing\n"
     ]
    }
   ],
   "source": [
    "#  this an for loop for just following and unflowing\n",
    "for i in range(10):\n",
    "    if follow.text =='Follow':\n",
    "        button = driver.find_element(By.CLASS_NAME,\"_acan._acap._acas._aj1-\")\n",
    "        button.click()\n",
    "    else:\n",
    "        print(\"already Following\")\n",
    "    time.sleep(2)\n",
    "        # now we need to write the code for unfollowing\n",
    "    follow = driver.find_element(By.CLASS_NAME,\"_aacl._aaco._aacw._aad6._aade\")\n",
    "    if follow.text =='Following':\n",
    "        button = driver.find_element(By.CLASS_NAME,\"_acan._acap._acat._aj1-\")\n",
    "        button.click() \n",
    "        # after that we need to shift the driver to the new popup\n",
    "\n",
    "        final_button = driver.find_elements(By.CLASS_NAME,\"_ab8w._ab94._ab99._ab9h._ab9m._ab9p._abcm\")\n",
    "        final_button[6].click()\n",
    "\n",
    "    else:\n",
    "        print(\"already unfollowing\")"
   ]
  },
  {
   "cell_type": "markdown",
   "id": "947bf52c",
   "metadata": {},
   "source": [
    "# 5 LIKING AND DISLIKING THE TOP 30 POSTS \"DILSEFOODIE\""
   ]
  },
  {
   "cell_type": "code",
   "execution_count": null,
   "id": "6474233b",
   "metadata": {},
   "outputs": [],
   "source": [
    "Like/Unlike posts\n",
    "Liking the top 30 posts of the ‘dilsefoodie'. Print message if you have already liked it.\n",
    "Unliking the top 30 posts of the ‘dilsefoodie’. Print message if you have already unliked it."
   ]
  },
  {
   "cell_type": "code",
   "execution_count": 115,
   "id": "3ef4519d",
   "metadata": {},
   "outputs": [],
   "source": [
    "#  write now are at the \"sodeshi\" page we need to hit back button or we can restart by driver than login \n",
    "# or we can just hit that button for search icon and then we can search it \n",
    "# then searching for the \"dilsefoodie\" than going to its account than like its first 30 posts"
   ]
  },
  {
   "cell_type": "markdown",
   "id": "fabe9b00",
   "metadata": {},
   "source": [
    "# liking "
   ]
  },
  {
   "cell_type": "code",
   "execution_count": 7,
   "id": "97a8f4ec",
   "metadata": {},
   "outputs": [
    {
     "name": "stderr",
     "output_type": "stream",
     "text": [
      "C:\\Users\\HP\\AppData\\Local\\Temp\\ipykernel_5988\\2761280358.py:1: DeprecationWarning: executable_path has been deprecated, please pass in a Service object\n",
      "  driver  = webdriver.Chrome(executable_path=\"C:/Users/HP/OneDrive/Desktop/chromedriver.exe\")\n"
     ]
    }
   ],
   "source": [
    "driver  = webdriver.Chrome(executable_path=\"C:/Users/HP/OneDrive/Desktop/chromedriver.exe\")\n",
    "driver.get('https://instagram.com/')\n"
   ]
  },
  {
   "cell_type": "code",
   "execution_count": 8,
   "id": "2cfb7876",
   "metadata": {},
   "outputs": [],
   "source": [
    "# Credentials\n",
    "username = WebDriverWait(driver, 10).until(EC.presence_of_element_located((By.NAME, \"username\")))\n",
    "password = WebDriverWait(driver, 10).until(EC.presence_of_element_located((By.NAME, \"password\")))\n",
    "username.clear()\n",
    "password.clear()\n",
    "username.send_keys(\"YOUR ID\")\n",
    "time.sleep(2)\n",
    "password.send_keys(\"YOUR PASSWORD \")\n",
    "time.sleep(2)\n",
    "btn = driver.find_elements(By.TAG_NAME,\"button\")\n",
    "btn[1].click()\n",
    "time.sleep(3)\n"
   ]
  },
  {
   "cell_type": "code",
   "execution_count": 9,
   "id": "a087285f",
   "metadata": {},
   "outputs": [],
   "source": [
    "not_now  = driver.find_element(By.XPATH,\"//button[@class='_acan _acao _acas _aj1-']\")\n",
    "not_now.click()\n",
    "\n",
    "time.sleep(1)\n",
    "not_now_noti = driver.find_element(By.CLASS_NAME,\"_a9--._a9_1\")\n",
    "not_now_noti.click()\n",
    "\n",
    "time.sleep(1)"
   ]
  },
  {
   "cell_type": "code",
   "execution_count": 55,
   "id": "34a9c943",
   "metadata": {},
   "outputs": [],
   "source": [
    "# maximizing the window \n",
    "# driver.maximize_window()\n",
    "time.sleep(1)\n",
    "# now we will search for that search button \n",
    "search = driver.find_element(By.XPATH,\"//div[@class='_aacl _aacp _aacu _aacx _aada']\")\n",
    "time.sleep(1)\n",
    "search.click()\n",
    "to_type = driver.find_element(By.XPATH,\"//input[@aria-label='Search input']\")\n",
    "to_type.send_keys(\"dilsefoodie\")"
   ]
  },
  {
   "cell_type": "code",
   "execution_count": null,
   "id": "f5d1483b",
   "metadata": {},
   "outputs": [],
   "source": [
    "driver.find_element(By.CLASS_NAME,\"_aacl._aaco._aacw._aacx._aad6\").click()\n",
    "posts = driver.find_elements(By.CLASS_NAME,\"_aagw\")"
   ]
  },
  {
   "cell_type": "code",
   "execution_count": null,
   "id": "db9f01c9",
   "metadata": {},
   "outputs": [],
   "source": [
    "posts[0].click()"
   ]
  },
  {
   "cell_type": "code",
   "execution_count": null,
   "id": "a166dba0",
   "metadata": {},
   "outputs": [],
   "source": [
    "Liked = driver.find_element(By.XPATH,'//*[@id=\"mount_0_0_sT\"]/div/div/div/div[2]/div/div/div[1]/div/div[3]/div/div/div/div/div[2]/div/article/div/div[2]/div/div/div[2]/section[1]/span[1]/button').get_attribute('innerHTML')\n",
    "if 'Unlike' in Liked:\n",
    "    print('You have already liked the page')\n",
    "#  this will be for next button of first page\n",
    "driver.find_element(By.XPATH,'//*[@id=\"mount_0_0_sT\"]/div/div/div/div[2]/div/div/div[1]/div/div[3]/div/div/div/div/div[1]/div/div/div/button').click()\n",
    "for i in range(29):\n",
    "#      check for like in ith page\n",
    "    Liked = driver.find_element(By.XPATH,'//*[@id=\"mount_0_0_sT\"]/div/div/div/div[2]/div/div/div[1]/div/div[3]/div/div/div/div/div[2]/div/article/div/div[2]/div/div/div[2]/section[1]/span[1]/button').get_attribute('innerHTML')\n",
    "    if 'Unlike' in Liked:\n",
    "        time.sleep(1)\n",
    "        print(f'You have already liked the {i} page')\n",
    "#         to go next page\n",
    "        driver.find_element(By.XPATH,'//*[@id=\"mount_0_0_sT\"]/div/div/div/div[2]/div/div/div[1]/div/div[3]/div/div/div/div/div[1]/div/div/div[2]/button').click()\n",
    "        time.sleep(1)\n",
    "    else:\n",
    "        time.sleep(1)\n",
    "#         liked the ith page\n",
    "        driver.find_element(By.XPATH,'//*[@id=\"mount_0_0_sT\"]/div/div/div/div[2]/div/div/div[1]/div/div[3]/div/div/div/div/div[2]/div/article/div/div[2]/div/div/div[2]/section[1]/span[1]/button').click()\n",
    "        time.sleep(1)\n",
    "#          going next to the ith page\n",
    "        driver.find_element(By.XPATH,'//*[@id=\"mount_0_0_sT\"]/div/div/div/div[2]/div/div/div[1]/div/div[3]/div/div/div/div/div[1]/div/div/div[2]/button').click()\n",
    "        time.sleep(1)"
   ]
  },
  {
   "cell_type": "markdown",
   "id": "24f6bdd5",
   "metadata": {},
   "source": [
    "# unliking 30 post "
   ]
  },
  {
   "cell_type": "code",
   "execution_count": 56,
   "id": "42031c61",
   "metadata": {},
   "outputs": [],
   "source": [
    "user_id = driver.find_element(By.CLASS_NAME,\"_aacl._aaco._aacw._aacx._aad6\")\n",
    "from bs4 import BeautifulSoup\n"
   ]
  },
  {
   "cell_type": "code",
   "execution_count": 57,
   "id": "f99a6c09",
   "metadata": {},
   "outputs": [],
   "source": [
    "data = driver.find_element(By.CLASS_NAME,\"_abm4\")"
   ]
  },
  {
   "cell_type": "code",
   "execution_count": 58,
   "id": "00cec8b0",
   "metadata": {},
   "outputs": [],
   "source": [
    "channel = driver.find_element(By.CLASS_NAME,\"_aacl._aaco._aacw._aacx._aad6\")"
   ]
  },
  {
   "cell_type": "code",
   "execution_count": 59,
   "id": "a9ec47ad",
   "metadata": {},
   "outputs": [],
   "source": [
    "channel.click()"
   ]
  },
  {
   "cell_type": "code",
   "execution_count": 55,
   "id": "4b0a0a99",
   "metadata": {},
   "outputs": [],
   "source": [
    "#  to write the code for unliking\n",
    "DisLiked = driver.find_element(By.XPATH,'//*[@id=\"mount_0_0_sT\"]/div/div/div/div[2]/div/div/div[1]/div/div[3]/div/div/div/div/div[2]/div/article/div/div[2]/div/div/div[2]/section[1]/span[1]/button').get_attribute('innerHTML')\n",
    "if 'Like' in DisLiked:\n",
    "    print('You have already liked the page')\n",
    "#  this will be for next button of first page\n",
    "driver.find_element(By.XPATH,'//*[@id=\"mount_0_0_sT\"]/div/div/div/div[2]/div/div/div[1]/div/div[3]/div/div/div/div/div[1]/div/div/div/button').click()\n",
    "for i in range(29):\n",
    "#      check for like in ith page\n",
    "    DisLiked = driver.find_element(By.XPATH,'//*[@id=\"mount_0_0_sT\"]/div/div/div/div[2]/div/div/div[1]/div/div[3]/div/div/div/div/div[2]/div/article/div/div[2]/div/div/div[2]/section[1]/span[1]/button').get_attribute('innerHTML')\n",
    "    if 'Like' in Liked:\n",
    "        time.sleep(1)\n",
    "        print(f'You have already disliked the {i} page')\n",
    "#         to go next page\n",
    "        driver.find_element(By.XPATH,'//*[@id=\"mount_0_0_sT\"]/div/div/div/div[2]/div/div/div[1]/div/div[3]/div/div/div/div/div[1]/div/div/div[2]/button').click()\n",
    "        time.sleep(1)\n",
    "    else:\n",
    "        time.sleep(1)\n",
    "#         liked the ith page\n",
    "        driver.find_element(By.XPATH,'//*[@id=\"mount_0_0_sT\"]/div/div/div/div[2]/div/div/div[1]/div/div[3]/div/div/div/div/div[2]/div/article/div/div[2]/div/div/div[2]/section[1]/span[1]/button').click()\n",
    "        time.sleep(1)\n",
    "#          going next to the ith page\n",
    "        driver.find_element(By.XPATH,'//*[@id=\"mount_0_0_sT\"]/div/div/div/div[2]/div/div/div[1]/div/div[3]/div/div/div/div/div[1]/div/div/div[2]/button').click()\n",
    "        time.sleep(1)"
   ]
  },
  {
   "cell_type": "markdown",
   "id": "165394cf",
   "metadata": {},
   "source": [
    "# part 6th "
   ]
  },
  {
   "cell_type": "markdown",
   "id": "c06b0fbe",
   "metadata": {},
   "source": [
    "# important point only this channel owner can see all its followers so i just have extracted as much i can "
   ]
  },
  {
   "cell_type": "code",
   "execution_count": null,
   "id": "329d921e",
   "metadata": {},
   "outputs": [],
   "source": [
    "Extract list of followers\n",
    "Extract the usernames of the first 500 followers of ‘foodtalkindia’ and ‘sodelhi’.\n",
    "Now print all the followers of “foodtalkindia” that you are following but those who don’t follow you."
   ]
  },
  {
   "cell_type": "code",
   "execution_count": 134,
   "id": "89778b85",
   "metadata": {},
   "outputs": [],
   "source": [
    "def login(account_name =\"your account name\" , your_passwprd=\"your password\"):\n",
    "        # Credentials\n",
    "    \n",
    "    username = WebDriverWait(driver, 10).until(EC.presence_of_element_located((By.NAME, \"username\")))\n",
    "    password = WebDriverWait(driver, 10).until(EC.presence_of_element_located((By.NAME, \"password\")))\n",
    "    username.clear()\n",
    "    password.clear()\n",
    "    username.send_keys(account_name)\n",
    "    time.sleep(2)\n",
    "    password.send_keys(your_passwprd)\n",
    "    time.sleep(5)\n",
    "    btn = driver.find_elements(By.TAG_NAME,\"button\")\n",
    "    btn[1].click()\n",
    "    time.sleep(3)\n",
    "    not_now  = driver.find_element(By.XPATH,\"//button[@class='_acan _acao _acas _aj1-']\")\n",
    "    not_now.click()\n",
    "    time.sleep(1)\n",
    "    not_now_noti = driver.find_element(By.CLASS_NAME,\"_a9--._a9_1\")\n",
    "    not_now_noti.click()\n",
    "\n",
    "    time.sleep(1)"
   ]
  },
  {
   "cell_type": "code",
   "execution_count": 138,
   "id": "0ad98c32",
   "metadata": {},
   "outputs": [
    {
     "name": "stderr",
     "output_type": "stream",
     "text": [
      "C:\\Users\\HP\\AppData\\Local\\Temp\\ipykernel_16248\\2653160586.py:1: DeprecationWarning: executable_path has been deprecated, please pass in a Service object\n",
      "  driver  = webdriver.Chrome(executable_path=\"C:/Users/HP/OneDrive/Desktop/chromedriver.exe\")\n"
     ]
    }
   ],
   "source": [
    "driver  = webdriver.Chrome(executable_path=\"C:/Users/HP/OneDrive/Desktop/chromedriver.exe\")\n"
   ]
  },
  {
   "cell_type": "markdown",
   "id": "9fff6a1a",
   "metadata": {},
   "source": [
    "#  6...1  \"FOOD TALK INDIA\""
   ]
  },
  {
   "cell_type": "code",
   "execution_count": null,
   "id": "7de3fabd",
   "metadata": {},
   "outputs": [],
   "source": [
    "driver.get('https://instagram.com/')\n",
    "login('YOUR ID',' YOUR PASSWORD ')"
   ]
  },
  {
   "cell_type": "code",
   "execution_count": 141,
   "id": "f4663ac9",
   "metadata": {},
   "outputs": [],
   "source": [
    "driver.maximize_window()"
   ]
  },
  {
   "cell_type": "code",
   "execution_count": 151,
   "id": "452948b7",
   "metadata": {},
   "outputs": [],
   "source": [
    "search = driver.find_element(By.XPATH,'//*[@id=\"mount_0_0_Qe\"]/div/div/div/div[1]/div/div/div/div[1]/div[1]/div[1]/div/div/div[2]/div/div/div[2]/div[1]/div/input')\n",
    "time.sleep(1)\n",
    "# search.click()"
   ]
  },
  {
   "cell_type": "code",
   "execution_count": 152,
   "id": "3cb77633",
   "metadata": {},
   "outputs": [],
   "source": [
    "search.send_keys('foodtalkindia')"
   ]
  },
  {
   "cell_type": "code",
   "execution_count": 153,
   "id": "5e4d889d",
   "metadata": {},
   "outputs": [],
   "source": [
    "channel = driver.find_element(By.ID,\"f2ae7769694f43c\")\n",
    "channel.click()"
   ]
  },
  {
   "cell_type": "code",
   "execution_count": 154,
   "id": "5159f130",
   "metadata": {},
   "outputs": [],
   "source": [
    "followers1 = driver.find_element(By.XPATH,'//*[@id=\"mount_0_0_Qe\"]/div/div/div/div[1]/div/div/div/div[1]/div[1]/div[2]/section/main/div/header/section/ul/li[2]/a')"
   ]
  },
  {
   "cell_type": "code",
   "execution_count": 155,
   "id": "9f2bd1da",
   "metadata": {},
   "outputs": [],
   "source": [
    "followers1.click()"
   ]
  },
  {
   "cell_type": "code",
   "execution_count": 156,
   "id": "3e46ecf4",
   "metadata": {},
   "outputs": [],
   "source": [
    "# now we will automate this new poup that has just poped "
   ]
  },
  {
   "cell_type": "code",
   "execution_count": 160,
   "id": "b9ce6a0b",
   "metadata": {},
   "outputs": [],
   "source": [
    "new_window =driver.window_handles[0]"
   ]
  },
  {
   "cell_type": "code",
   "execution_count": 165,
   "id": "15b34eb0",
   "metadata": {},
   "outputs": [],
   "source": [
    "followers = driver.find_elements(By.CLASS_NAME,\"_ab8y._ab94._ab97._ab9f._ab9k._ab9p._abcm\")"
   ]
  },
  {
   "cell_type": "code",
   "execution_count": 167,
   "id": "62511cd9",
   "metadata": {},
   "outputs": [],
   "source": [
    "followers_name = [i.text for i in followers]"
   ]
  },
  {
   "cell_type": "code",
   "execution_count": 171,
   "id": "f50a3c80",
   "metadata": {
    "scrolled": true
   },
   "outputs": [
    {
     "name": "stdout",
     "output_type": "stream",
     "text": [
      "['_.arryyaa', 's_fit_21', 'atrayikanjilal', 'foodie_akiee', 'adityashukla.02', 'thedominantseventh', 'bhookh.lagi.khana.do', 'albele_alfaaz', 'biryani_licious30', 'book.my.adventure', 'soph54639', 'dali9dec', 'mrunmayidhurandhar', 'look_man7890', 'jeffry_asahi_susumu', 'joyceluvcoconut', 'jj2866528', 'kailashpradhan263', 'stylingbyk_', 'kitchen.havana', 'krishnaprasadsharrafgmail_', 'mahesh_gonemadathala', 'nafisa_reshi', 'nashik_mejwani', 'ojas_moms_kitchen', 'praveenmalhotra1975', 'pun_it', 'kumarrahuldev', 'ripon_kumar_banik', 'fazil_fz_lover_200_', 'santoshtiwari01', 'sanyabhutani', 'shahroazchoudary', 'sheikhyasir733', 'sharma_shiva14', 'kanchheraliasmynah', 'shubham__sr4', 'shweta_adlakha', 'krishna_sinha_sk', 'sabat.sureshkumar', 'tumbledryfaridabad', 'udbhav.murarka', 'yummykichenpoint', 'indianzayaka', 'tarun_bhandari_8000_', 'tame__82', 'em2004949g', 'gerehair__', 'blooty24', 'officel_sohel_khan_2045']\n"
     ]
    }
   ],
   "source": [
    "print(followers_name)"
   ]
  },
  {
   "cell_type": "code",
   "execution_count": 177,
   "id": "4cf0341a",
   "metadata": {
    "scrolled": true
   },
   "outputs": [
    {
     "name": "stdout",
     "output_type": "stream",
     "text": [
      "                     followers\n",
      "0                    _.arryyaa\n",
      "1                     s_fit_21\n",
      "2               atrayikanjilal\n",
      "3                 foodie_akiee\n",
      "4              adityashukla.02\n",
      "5           thedominantseventh\n",
      "6         bhookh.lagi.khana.do\n",
      "7                albele_alfaaz\n",
      "8            biryani_licious30\n",
      "9            book.my.adventure\n",
      "10                   soph54639\n",
      "11                    dali9dec\n",
      "12          mrunmayidhurandhar\n",
      "13                look_man7890\n",
      "14         jeffry_asahi_susumu\n",
      "15             joyceluvcoconut\n",
      "16                   jj2866528\n",
      "17           kailashpradhan263\n",
      "18                 stylingbyk_\n",
      "19              kitchen.havana\n",
      "20  krishnaprasadsharrafgmail_\n",
      "21        mahesh_gonemadathala\n",
      "22                nafisa_reshi\n",
      "23              nashik_mejwani\n",
      "24           ojas_moms_kitchen\n",
      "25         praveenmalhotra1975\n",
      "26                      pun_it\n",
      "27               kumarrahuldev\n",
      "28           ripon_kumar_banik\n",
      "29         fazil_fz_lover_200_\n",
      "30             santoshtiwari01\n",
      "31                sanyabhutani\n",
      "32            shahroazchoudary\n",
      "33              sheikhyasir733\n",
      "34              sharma_shiva14\n",
      "35          kanchheraliasmynah\n",
      "36                shubham__sr4\n",
      "37              shweta_adlakha\n",
      "38            krishna_sinha_sk\n",
      "39           sabat.sureshkumar\n",
      "40          tumbledryfaridabad\n",
      "41              udbhav.murarka\n",
      "42            yummykichenpoint\n",
      "43                indianzayaka\n",
      "44        tarun_bhandari_8000_\n",
      "45                    tame__82\n",
      "46                  em2004949g\n",
      "47                  gerehair__\n",
      "48                    blooty24\n",
      "49     officel_sohel_khan_2045\n"
     ]
    }
   ],
   "source": [
    "# the dataframe to show thte follower \n",
    "data = {\"followers\" : followers_name}\n",
    "import pandas as pd\n",
    "dataframe1 = pd.DataFrame(data)\n",
    "print(dataframe1)\n"
   ]
  },
  {
   "cell_type": "markdown",
   "id": "a3f84d75",
   "metadata": {},
   "source": [
    "# 6.........2 \"so delhi\" "
   ]
  },
  {
   "cell_type": "code",
   "execution_count": 172,
   "id": "7312a0f2",
   "metadata": {},
   "outputs": [],
   "source": [
    "driver.back()"
   ]
  },
  {
   "cell_type": "code",
   "execution_count": 173,
   "id": "6ca6281b",
   "metadata": {},
   "outputs": [],
   "source": [
    "#  calling the search button "
   ]
  },
  {
   "cell_type": "code",
   "execution_count": null,
   "id": "39bebd9a",
   "metadata": {},
   "outputs": [],
   "source": [
    "search = driver.find_element(By.XPATH,'//*[@id=\"mount_0_0_Qe\"]/div/div/div/div[1]/div/div/div/div[1]/div[1]/div[1]/div/div/div[2]/div/div/div[2]/div[1]/div/input')\n",
    "time.sleep(1)\n",
    "search.click()"
   ]
  },
  {
   "cell_type": "code",
   "execution_count": null,
   "id": "6f7697fd",
   "metadata": {},
   "outputs": [],
   "source": [
    "search.send_keys('sodelhi')"
   ]
  },
  {
   "cell_type": "code",
   "execution_count": 184,
   "id": "671d8347",
   "metadata": {},
   "outputs": [],
   "source": [
    "# now we find the top result as the 'sodelhi and click over it'\n",
    "driver.find_element(By.ID,\"f128a6f45735a98\").click()"
   ]
  },
  {
   "cell_type": "code",
   "execution_count": 188,
   "id": "16851a68",
   "metadata": {},
   "outputs": [],
   "source": [
    "channel2= driver.find_elements(By.XPATH,'//*[@id=\"mount_0_0_Qe\"]/div/div/div/div[1]/div/div/div/div[1]/div[1]/div[2]/section/main/div/header/section/ul/li[2]/a')"
   ]
  },
  {
   "cell_type": "code",
   "execution_count": 189,
   "id": "47a5246b",
   "metadata": {},
   "outputs": [],
   "source": [
    "channel2[0].click()"
   ]
  },
  {
   "cell_type": "code",
   "execution_count": 191,
   "id": "30aae975",
   "metadata": {},
   "outputs": [],
   "source": [
    "followers2 = driver.find_elements(By.CLASS_NAME,\"_ab8y._ab94._ab97._ab9f._ab9k._ab9p._abcm\")"
   ]
  },
  {
   "cell_type": "code",
   "execution_count": 192,
   "id": "3e79f925",
   "metadata": {},
   "outputs": [],
   "source": [
    "followers_name2 = [i.text for i in followers2]"
   ]
  },
  {
   "cell_type": "code",
   "execution_count": 194,
   "id": "29b0bbdf",
   "metadata": {
    "scrolled": true
   },
   "outputs": [
    {
     "name": "stdout",
     "output_type": "stream",
     "text": [
      "            followers\n",
      "0   undaunted_unbound\n",
      "1        rakibtiger10\n",
      "2    chadha_amanpreet\n",
      "3     rohit_chandra04\n",
      "4       mounicabandha\n",
      "5             kawsh__\n",
      "6        sanyaahuja15\n",
      "7          j_.kaurrrr\n",
      "8      lovleen___kaur\n",
      "9       dimplesingh17\n",
      "10     isolatedhumann\n",
      "11        _vaishali3_\n"
     ]
    }
   ],
   "source": [
    "data2 = {\"followers\" : followers_name2}\n",
    "import pandas as pd\n",
    "dataframe2 = pd.DataFrame(data2)\n",
    "print(dataframe2)"
   ]
  },
  {
   "cell_type": "markdown",
   "id": "508015dc",
   "metadata": {},
   "source": [
    "# Printing all the followers of “foodtalkindia” that I am following but those who don’t follow me"
   ]
  },
  {
   "cell_type": "code",
   "execution_count": null,
   "id": "26155907",
   "metadata": {},
   "outputs": [],
   "source": [
    "\n",
    "driver.back()\n",
    "time.sleep(2)\n",
    "driver.back()\n",
    "time.sleep(2)\n",
    "driver.refresh()\n",
    "time.sleep(4)\n",
    "\n",
    "# first click on my profile\n",
    "my_prof = driver.find_element(By.CLASS_NAME,\"_aaav\")\n",
    "my_prof.click()\n",
    "\n",
    "# click on profile \n",
    "followers_btn = WebDriverWait(driver, 10).until(EC.element_to_be_clickable((By.XPATH,'//div[@class=\"_aa61\"]/a')))\n",
    "followers_btn.click()\n",
    "\n",
    "#click on following\n",
    "following = WebDriverWait(driver, 10).until(EC.element_to_be_clickable((By.XPATH, '//a[@href = \"/aman_2022_sample_testing/following/\"]')))\n",
    "following.click()\n",
    "time.sleep(3)\n",
    "\n",
    "# total no. of following \n",
    "total_following = driver.find_elements(By.CLASS_NAME,\"_ac2a\")[-1]\n",
    "total_no = int(total_following.text)\n",
    "\n",
    "\n",
    "following_window = WebDriverWait(driver, 10).until(EC.element_to_be_clickable((By.XPATH, '//div[contains(@class,\"_aano\")]')))\n",
    "  \n",
    "# Scroll till Followers list is there\n",
    "count = 0\n",
    "my_following = set()\n",
    "while count < total_no:\n",
    "    bt_serch = driver.find_elements(By.XPATH,'//a[contains(@class,\"oajrlxb2\")]/span')\n",
    "    for i in bt_serch:\n",
    "        name = i.get_attribute(\"innerHTML\")\n",
    "        my_following.add(name)\n",
    "        count +=1\n",
    "    driver.execute_script('arguments[0].scrollTop = arguments[0].scrollTop + arguments[0].offsetHeight;',following_window)\n",
    "    time.sleep(4)\n",
    "    \n",
    "# close the pop up window\n",
    "driver.back()\n",
    "time.sleep(2)\n",
    "\n",
    "#search foodtalkindia\n",
    "bt_serch = driver.find_element(By.XPATH,'//input[starts-with(@placeholder,\"Search\")]')\n",
    "bt_serch.get_attribute(\"outerHTML\")\n",
    "bt_serch.send_keys(\"foodtalkindia\")\n",
    "time.sleep(2)\n",
    "\n",
    "fti_btn = driver.find_element(By.XPATH,'//a[starts-with(@class,\"oajrlxb2 \")]//div[contains(@class,\"_aacl\")]/div/div')\n",
    "fti_btn.click()\n",
    "time.sleep(4)\n",
    "\n",
    "#search mutual followers & create set for it\n",
    "m = driver.find_elements(By.CLASS_NAME,'_aaai')\n",
    "mutual_followers = set()\n",
    "for i in range(1,len(m)):\n",
    "    name = m[i].get_attribute(\"innerHTML\")\n",
    "    mutual_followers.add(name)\n",
    "    \n",
    "    \n",
    "#find the difference between two sets so that we get followers of foodtalkindia who do not follow me    \n",
    "for ele in mutual_followers.difference(my_following):\n",
    "    print(ele) "
   ]
  },
  {
   "cell_type": "markdown",
   "id": "c7ae412a",
   "metadata": {},
   "source": [
    "# checking the story of coding ninjas "
   ]
  },
  {
   "cell_type": "markdown",
   "id": "f44a894b",
   "metadata": {},
   "source": [
    "Check the story of ‘coding.ninjas’. Consider the following Scenarios and print error messages accordingly -\n",
    "If You have already seen the story.\n",
    "Or The user has no story.\n",
    "Or View the story if not yet seen."
   ]
  },
  {
   "cell_type": "code",
   "execution_count": 1,
   "id": "d5f9caa1",
   "metadata": {},
   "outputs": [],
   "source": [
    "from selenium import webdriver\n",
    "from selenium.webdriver.common.by import By\n",
    "from selenium.webdriver.support.ui import WebDriverWait\n",
    "from selenium.webdriver.support import expected_conditions as EC\n",
    "import time\n",
    "from selenium.webdriver.chrome.options import Options\n",
    "from bs4 import BeautifulSoup\n"
   ]
  },
  {
   "cell_type": "code",
   "execution_count": 2,
   "id": "9ce3f933",
   "metadata": {},
   "outputs": [
    {
     "name": "stderr",
     "output_type": "stream",
     "text": [
      "C:\\Users\\HP\\AppData\\Local\\Temp\\ipykernel_1516\\3730424116.py:11: DeprecationWarning: executable_path has been deprecated, please pass in a Service object\n",
      "  driver  = webdriver.Chrome(executable_path=\"C:/Users/HP/OneDrive/Desktop/chromedriver.exe\")\n"
     ]
    }
   ],
   "source": [
    "option = Options()\n",
    "option.add_argument(\"--disable-infobars\")\n",
    "option.add_argument(\"start-maximized\")\n",
    "option.add_argument(\"--disable-extensions\")\n",
    "option.add_experimental_option(\"prefs\", { \n",
    "    \"profile.default_content_setting_values.notifications\": 1 \n",
    "})\n",
    "\n",
    "\n",
    "# Create driver session\n",
    "driver  = webdriver.Chrome(executable_path=\"C:/Users/HP/OneDrive/Desktop/chromedriver.exe\")\n",
    "driver.get('https://instagram.com/')"
   ]
  },
  {
   "cell_type": "code",
   "execution_count": 3,
   "id": "4064678c",
   "metadata": {},
   "outputs": [],
   "source": [
    "# Credentials\n",
    "username = WebDriverWait(driver, 10).until(EC.presence_of_element_located((By.NAME, \"username\")))\n",
    "password = WebDriverWait(driver, 10).until(EC.presence_of_element_located((By.NAME, \"password\")))\n",
    "username.clear()\n",
    "password.clear()\n",
    "username.send_keys(\"your id\")\n",
    "time.sleep(2)\n",
    "password.send_keys(\"your password \")\n",
    "time.sleep(2)\n",
    "btn = driver.find_elements(By.TAG_NAME,\"button\")\n",
    "btn[1].click()\n",
    "time.sleep(3)\n"
   ]
  },
  {
   "cell_type": "code",
   "execution_count": 4,
   "id": "ded46674",
   "metadata": {},
   "outputs": [],
   "source": [
    "not_now  = driver.find_element(By.XPATH,\"//button[@class='_acan _acao _acas _aj1-']\")\n",
    "not_now.click()\n",
    "time.sleep(1)\n",
    "not_now_noti = driver.find_element(By.CLASS_NAME,\"_a9--._a9_1\")\n",
    "not_now_noti.click()\n",
    "\n",
    "time.sleep(1)"
   ]
  },
  {
   "cell_type": "code",
   "execution_count": 5,
   "id": "9ddc4faf",
   "metadata": {},
   "outputs": [],
   "source": [
    "driver.maximize_window()"
   ]
  },
  {
   "cell_type": "code",
   "execution_count": 6,
   "id": "2ace1581",
   "metadata": {},
   "outputs": [],
   "source": [
    "#  now searching for coding ninjas "
   ]
  },
  {
   "cell_type": "code",
   "execution_count": 15,
   "id": "b436135a",
   "metadata": {},
   "outputs": [],
   "source": [
    "search_button = driver.find_elements(By.XPATH,'//*[@id=\"mount_0_0_bU\"]/div/div/div/div[1]/div/div/div/div[1]/div[1]/div[1]/div/div/div/div/div[2]/div[2]/div/a/div/div[2]/div/div')[0].click()"
   ]
  },
  {
   "cell_type": "code",
   "execution_count": 20,
   "id": "7641fba8",
   "metadata": {},
   "outputs": [],
   "source": [
    "search_button.send_keys(\"coding ninjas\")"
   ]
  },
  {
   "cell_type": "code",
   "execution_count": 21,
   "id": "fe771c7c",
   "metadata": {},
   "outputs": [],
   "source": [
    "coding = driver.find_element(By.CLASS_NAME,\"_aacl._aaco._aacw._aacx._aad6\").click()"
   ]
  },
  {
   "cell_type": "code",
   "execution_count": 48,
   "id": "0f1a6416",
   "metadata": {},
   "outputs": [
    {
     "name": "stdout",
     "output_type": "stream",
     "text": [
      "I have already seen the story\n"
     ]
    }
   ],
   "source": [
    "\n",
    "\n",
    "cn_btn = driver.find_element(By.XPATH,'//a[starts-with(@class,\"oajrlxb2 \")]//div[contains(@class,\"_aacl\")]/div/div')\n",
    "cn_btn.click()\n",
    "time.sleep(4)\n",
    "\n",
    "story_btn = driver.find_element(By.XPATH,'//*[@id=\"mount_0_0_sk\"]/div/div/div/div[1]/div/div/div/div[1]/div[1]/div[2]/section/main/div/header/div/div')\n",
    "\n",
    "#check is story is present using aria-disabled attribute\n",
    "\n",
    "if story_btn.get_attribute(\"aria-disabled\") == \"true\":\n",
    "    print(\"Coding Ninjas has no story\")\n",
    "    \n",
    "else:\n",
    "    #if story is present check if you have viewed the story by checking height attribute \n",
    "    story_check = driver.find_element(By.XPATH,'//div[starts-with(@class,\"_aarf\")]/canvas')\n",
    "    if story_check.get_attribute(\"height\") == '166':\n",
    "        print(\"I have already seen the story\")\n",
    "        \n",
    "\n",
    "    #if not viewed then view the story\n",
    "    else:\n",
    "        viewstory = driver.find_element(By.XPATH,'//div[starts-with(@class,\"_aarf\")]/span')\n",
    "        viewstory.click()\n",
    "        time.sleep(4)\n",
    "        while True:\n",
    "            try:\n",
    "                next_story = driver.find_element(By.XPATH,'//button[@aria-label=\"Next\"]')\n",
    "                next_story = driver.find_element(By.XPATH,'//button[@aria-label=\"Next\"]')\n",
    "                next_story.click()\n",
    "                time.sleep(4)\n",
    "            except:\n",
    "                break"
   ]
  },
  {
   "cell_type": "code",
   "execution_count": null,
   "id": "67402d36",
   "metadata": {},
   "outputs": [],
   "source": []
  }
 ],
 "metadata": {
  "kernelspec": {
   "display_name": "Python 3 (ipykernel)",
   "language": "python",
   "name": "python3"
  },
  "language_info": {
   "codemirror_mode": {
    "name": "ipython",
    "version": 3
   },
   "file_extension": ".py",
   "mimetype": "text/x-python",
   "name": "python",
   "nbconvert_exporter": "python",
   "pygments_lexer": "ipython3",
   "version": "3.9.7"
  }
 },
 "nbformat": 4,
 "nbformat_minor": 5
}
